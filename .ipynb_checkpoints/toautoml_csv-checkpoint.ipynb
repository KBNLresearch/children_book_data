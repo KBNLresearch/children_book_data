{
 "cells": [
  {
   "cell_type": "code",
   "execution_count": null,
   "metadata": {},
   "outputs": [],
   "source": [
    "def toautoml_csv(remote_path):\n",
    "import pandas as pd\n",
    "csv_input = pd.read_csv('/Users/seyran/Documents/GitHub/children_book_data/concatenated_annotations.csv')\n",
    "csv_input.insert(0,'set','UNASSIGNED')\n",
    "csv_input.insert(1,'path',remote_path)\n",
    "csv_input[\"path\"] = csv_input[\"path\"] + csv_input[\"id\"]\n",
    "csv_input = csv_input.drop('id', axis=1)\n",
    "csv_input.insert(5,'empty5','')\n",
    "csv_input.insert(6,'empty6','')\n",
    "csv_input.insert(9,'empty9','')\n",
    "csv_input.insert(10,'empty10','')\n",
    "csv_input.to_csv('output.csv',index=False)"
   ]
  },
  {
   "cell_type": "code",
   "execution_count": null,
   "metadata": {},
   "outputs": [],
   "source": [
    "remote_path= \"gs://depth-286210/children_book_images/\"\n",
    "toautoml_csv(remote_path)"
   ]
  }
 ],
 "metadata": {
  "kernelspec": {
   "display_name": "Python 3",
   "language": "python",
   "name": "python3"
  },
  "language_info": {
   "codemirror_mode": {
    "name": "ipython",
    "version": 3
   },
   "file_extension": ".py",
   "mimetype": "text/x-python",
   "name": "python",
   "nbconvert_exporter": "python",
   "pygments_lexer": "ipython3",
   "version": "3.6.10"
  }
 },
 "nbformat": 4,
 "nbformat_minor": 4
}
